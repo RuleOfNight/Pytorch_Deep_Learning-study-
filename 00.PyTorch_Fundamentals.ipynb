{
  "nbformat": 4,
  "nbformat_minor": 0,
  "metadata": {
    "colab": {
      "provenance": [],
      "gpuType": "T4",
      "authorship_tag": "ABX9TyNXQQk8BbW1H/qimkrEsyN9",
      "include_colab_link": true
    },
    "kernelspec": {
      "name": "python3",
      "display_name": "Python 3"
    },
    "language_info": {
      "name": "python"
    },
    "accelerator": "GPU"
  },
  "cells": [
    {
      "cell_type": "markdown",
      "metadata": {
        "id": "view-in-github",
        "colab_type": "text"
      },
      "source": [
        "<a href=\"https://colab.research.google.com/github/RuleOfNight/Pytorch_Deep_Learning-study-/blob/main/00.PyTorch_Fundamentals.ipynb\" target=\"_parent\"><img src=\"https://colab.research.google.com/assets/colab-badge.svg\" alt=\"Open In Colab\"/></a>"
      ]
    },
    {
      "cell_type": "markdown",
      "source": [
        "## 00. PyTorch Fundamentals\n",
        "\n",
        "Resource book: https://www.learnpytorch.io\n",
        "\n",
        "Source code: https://github.com/mrdbourke/pytorch-deep-learning?tab=readme-ov-file"
      ],
      "metadata": {
        "id": "e-Dac9W2ci6I"
      }
    },
    {
      "cell_type": "markdown",
      "source": [
        "# **1.Cấu trúc và đặc điểm của PyTorch**\n",
        "a. Tensors (Mãng dữ liệu đa chiều)\n",
        "\n",
        "* Tensor là cấu trúc dữ liệu cơ bản trong PyTorch, khá giống với mảng (array) trong NumPy nhưng chạy trên GPU nên tốc độ nhanh hơn\n",
        "* Tính năng nổi bật:\n",
        "  * Hỗ trợ tính toán nhanh trên CPU và GPU\n",
        "  * Có thể chuyển đổi dữ liệu qua lại giữa array(NumPy) sang Tensor(PyTorch) và ngược lại\n",
        "\n",
        "b. Dynamic Computation Graph (Đồ thị tính toán động)\n",
        "* PyTorch sử dụng **đồ thị tính toán động**, nghĩa là đồ thị này được xây dựng lại tại mỗi vòng lặp test, giúp cho nó dễ dàng thực hiện các phép tính thử nghiệm và linh hoạt trong các mô hình phức tạp\n",
        "\n",
        "c.Autograd(Đạo hàm tự động)\n",
        "* Là hệ thống tự động tính gradient(đạo hàm) dựa trên đồ thị tính toán\n",
        "* Việc tự động đạo hàm giúp giảm độ phức tạp\n",
        "\n",
        "d.Modules và Layers\n",
        "* PyTorch cung cấp các lớp `torch.nn` để xây dựng các mạng nơ-ron với nhiều kiểu tầng (layers) như:\n",
        "  * Tầng tuyến tính (`Linear`)\n",
        "  * Tầng tích chập (`Conv2d`)\n",
        "  * Tầng kích hoạt (`ReLU, sigmoid`)\n",
        "\n",
        "e. GPU Acceleration\n",
        "* PyTorch tích hợp hỗ trợ GPU, giúp tăng tốc độ huấn luyện mô hình so với chỉ sử dụng CPU\n",
        "* Lệnh `to(device)` được dùng để chuyển tensor hoặc mô hình sang GPU\n",
        "\n",
        "# **2. Các thành phần chính của PyTorch**\n",
        "1. `torch`\n",
        "* Thư viện chính của PyTorch, cung cấp công cụ xử lý tensor, phép toán tuyến tính,...\n",
        "2. `torch.nn`\n",
        "* Module để xây dựng các mô hình mạng nơ-ron\n",
        "* Tích hợp nhiều loại layer và công cụ huấn luyện\n",
        "3. `torch.optim`\n",
        "* Hỗ trợ các thuật toán tối ưu(SGD, Adam, RMSprop) để training\n",
        "4. `torch.utils.data`\n",
        "* Công cụ để xử lý và tải dữ liệu, bao gồm các lớp như `Dataset` và `DataLoader`\n",
        "5. `torchvision`\n",
        "* Liên quan đến thị giác máy tính (Computer Vision)\n",
        "  * Bộ dữ liệu: CIFAR-10,MNIST,COCO\n",
        "  * Các mạng nơ-ron tích chập tiền tập huấn như ResNet, AlexNet\n",
        "\n"
      ],
      "metadata": {
        "id": "qVodx8D9B80_"
      }
    },
    {
      "cell_type": "code",
      "source": [
        "!nvidia-smi"
      ],
      "metadata": {
        "colab": {
          "base_uri": "https://localhost:8080/"
        },
        "id": "4eInoSU9Q7zC",
        "outputId": "e89abdcc-0123-4e27-818d-56b60a3b9633"
      },
      "execution_count": null,
      "outputs": [
        {
          "output_type": "stream",
          "name": "stdout",
          "text": [
            "Wed Nov 20 16:53:19 2024       \n",
            "+---------------------------------------------------------------------------------------+\n",
            "| NVIDIA-SMI 535.104.05             Driver Version: 535.104.05   CUDA Version: 12.2     |\n",
            "|-----------------------------------------+----------------------+----------------------+\n",
            "| GPU  Name                 Persistence-M | Bus-Id        Disp.A | Volatile Uncorr. ECC |\n",
            "| Fan  Temp   Perf          Pwr:Usage/Cap |         Memory-Usage | GPU-Util  Compute M. |\n",
            "|                                         |                      |               MIG M. |\n",
            "|=========================================+======================+======================|\n",
            "|   0  Tesla T4                       Off | 00000000:00:04.0 Off |                    0 |\n",
            "| N/A   40C    P8               9W /  70W |      0MiB / 15360MiB |      0%      Default |\n",
            "|                                         |                      |                  N/A |\n",
            "+-----------------------------------------+----------------------+----------------------+\n",
            "                                                                                         \n",
            "+---------------------------------------------------------------------------------------+\n",
            "| Processes:                                                                            |\n",
            "|  GPU   GI   CI        PID   Type   Process name                            GPU Memory |\n",
            "|        ID   ID                                                             Usage      |\n",
            "|=======================================================================================|\n",
            "|  No running processes found                                                           |\n",
            "+---------------------------------------------------------------------------------------+\n"
          ]
        }
      ]
    },
    {
      "cell_type": "code",
      "source": [
        "import torch\n",
        "import pandas as pd\n",
        "import numpy as np\n",
        "import matplotlib.pyplot as plt\n",
        "print(torch.__version__)"
      ],
      "metadata": {
        "colab": {
          "base_uri": "https://localhost:8080/"
        },
        "id": "PZq9z98gfhly",
        "outputId": "cde76833-127a-4460-bbdb-e0871df7418e"
      },
      "execution_count": null,
      "outputs": [
        {
          "output_type": "stream",
          "name": "stdout",
          "text": [
            "2.5.1+cu121\n"
          ]
        }
      ]
    },
    {
      "cell_type": "code",
      "source": [
        "#Scalar\n",
        "\n",
        "scalar = torch.tensor(7)\n",
        "scalar"
      ],
      "metadata": {
        "colab": {
          "base_uri": "https://localhost:8080/"
        },
        "id": "suRz6OBpfpuD",
        "outputId": "d17d09cd-13c7-418a-9ffe-8582e15166e0"
      },
      "execution_count": null,
      "outputs": [
        {
          "output_type": "execute_result",
          "data": {
            "text/plain": [
              "tensor(7)"
            ]
          },
          "metadata": {},
          "execution_count": 10
        }
      ]
    },
    {
      "cell_type": "code",
      "source": [
        "scalar.ndim"
      ],
      "metadata": {
        "colab": {
          "base_uri": "https://localhost:8080/"
        },
        "id": "QzrSl2XGi8k3",
        "outputId": "dc88f02e-eff2-4fa0-d17f-d5a08eb1d12c"
      },
      "execution_count": null,
      "outputs": [
        {
          "output_type": "execute_result",
          "data": {
            "text/plain": [
              "0"
            ]
          },
          "metadata": {},
          "execution_count": 11
        }
      ]
    },
    {
      "cell_type": "code",
      "source": [
        "#Lấy giá trị tensor với kiểu int\n",
        "scalar.item()"
      ],
      "metadata": {
        "colab": {
          "base_uri": "https://localhost:8080/"
        },
        "id": "p86oTKegi-oE",
        "outputId": "45fe4e12-8d48-41bd-91ff-036758da91c7"
      },
      "execution_count": null,
      "outputs": [
        {
          "output_type": "execute_result",
          "data": {
            "text/plain": [
              "7"
            ]
          },
          "metadata": {},
          "execution_count": 13
        }
      ]
    },
    {
      "cell_type": "code",
      "source": [
        "#Vector\n",
        "vector = torch.tensor([7,7])\n",
        "vector"
      ],
      "metadata": {
        "colab": {
          "base_uri": "https://localhost:8080/"
        },
        "id": "DroV9npGjByG",
        "outputId": "51762615-1bf9-47a6-9698-bc546d58aa2a"
      },
      "execution_count": null,
      "outputs": [
        {
          "output_type": "execute_result",
          "data": {
            "text/plain": [
              "tensor([7, 7])"
            ]
          },
          "metadata": {},
          "execution_count": 14
        }
      ]
    },
    {
      "cell_type": "code",
      "source": [
        "vector.ndim"
      ],
      "metadata": {
        "colab": {
          "base_uri": "https://localhost:8080/"
        },
        "id": "R7wtU07MjbrX",
        "outputId": "17e6a3b9-c3c9-4d23-894b-1dff3d1574c0"
      },
      "execution_count": null,
      "outputs": [
        {
          "output_type": "execute_result",
          "data": {
            "text/plain": [
              "1"
            ]
          },
          "metadata": {},
          "execution_count": 15
        }
      ]
    },
    {
      "cell_type": "code",
      "source": [
        "vector.shape"
      ],
      "metadata": {
        "colab": {
          "base_uri": "https://localhost:8080/"
        },
        "id": "8dCuSP3skDQa",
        "outputId": "2e107a12-90f5-41bc-c479-031abcd727bf"
      },
      "execution_count": null,
      "outputs": [
        {
          "output_type": "execute_result",
          "data": {
            "text/plain": [
              "torch.Size([2])"
            ]
          },
          "metadata": {},
          "execution_count": 16
        }
      ]
    },
    {
      "cell_type": "code",
      "source": [
        "#Matrix\n",
        "matrix = torch.tensor([[7,8],\n",
        "                      [9,10]])\n",
        "matrix"
      ],
      "metadata": {
        "colab": {
          "base_uri": "https://localhost:8080/"
        },
        "id": "v2DHZ7swkEYV",
        "outputId": "dbd72db7-6663-46c8-ef69-c05b004ac043"
      },
      "execution_count": null,
      "outputs": [
        {
          "output_type": "execute_result",
          "data": {
            "text/plain": [
              "tensor([[ 7,  8],\n",
              "        [ 9, 10]])"
            ]
          },
          "metadata": {},
          "execution_count": 17
        }
      ]
    },
    {
      "cell_type": "code",
      "source": [
        "matrix.ndim"
      ],
      "metadata": {
        "colab": {
          "base_uri": "https://localhost:8080/"
        },
        "id": "f9S1FM8RkJOc",
        "outputId": "fe6f85d7-7ba5-4b5b-9365-38bbb8dbd6bc"
      },
      "execution_count": null,
      "outputs": [
        {
          "output_type": "execute_result",
          "data": {
            "text/plain": [
              "2"
            ]
          },
          "metadata": {},
          "execution_count": 18
        }
      ]
    },
    {
      "cell_type": "code",
      "source": [
        "matrix[0,0:2]"
      ],
      "metadata": {
        "colab": {
          "base_uri": "https://localhost:8080/"
        },
        "id": "K0HGrY-RkKyz",
        "outputId": "b0e6c9e8-a563-407f-cb00-4f35e7e7d248"
      },
      "execution_count": null,
      "outputs": [
        {
          "output_type": "execute_result",
          "data": {
            "text/plain": [
              "tensor([7, 8])"
            ]
          },
          "metadata": {},
          "execution_count": 22
        }
      ]
    },
    {
      "cell_type": "code",
      "source": [
        "matrix.shape"
      ],
      "metadata": {
        "colab": {
          "base_uri": "https://localhost:8080/"
        },
        "id": "cFfBrf3OkOfb",
        "outputId": "1288d04d-e700-4c8a-a17d-bf3302bd0481"
      },
      "execution_count": null,
      "outputs": [
        {
          "output_type": "execute_result",
          "data": {
            "text/plain": [
              "torch.Size([2, 2])"
            ]
          },
          "metadata": {},
          "execution_count": 23
        }
      ]
    },
    {
      "cell_type": "code",
      "source": [
        "#TENSOR\n",
        "TENSOR = torch.tensor([[[1,2,3],\n",
        "                        [4,5,6],\n",
        "                        [7,8,9]]])\n",
        "print(TENSOR)\n",
        "print()\n",
        "print(TENSOR.ndim)\n",
        "print()\n",
        "print(TENSOR.shape)"
      ],
      "metadata": {
        "colab": {
          "base_uri": "https://localhost:8080/"
        },
        "id": "0rR3ykaCkdAj",
        "outputId": "1a95856e-6dbe-4aa6-a1e1-08e4afdddfc7"
      },
      "execution_count": null,
      "outputs": [
        {
          "output_type": "stream",
          "name": "stdout",
          "text": [
            "tensor([[[1, 2, 3],\n",
            "         [4, 5, 6],\n",
            "         [7, 8, 9]]])\n",
            "\n",
            "3\n",
            "\n",
            "torch.Size([1, 3, 3])\n"
          ]
        }
      ]
    },
    {
      "cell_type": "markdown",
      "source": [
        "# Random tensor\n",
        "\n",
        "Random tensors quan trọng vì cách mà các neutral network học là bắt đầu với các tensor đầy số ngẫu nhiên và sau đó điều chỉnh những con số ngẫu nhiên đó để biểu thị tốt hơn cho dữ liệu\n",
        "\n",
        "`Start with random numbers -> look at data -> update random numbers -> look at data -> update random numbers`\n",
        "\n",
        "Torch random tensors - https://pytorch.org/docs/stable/generated/torch.rand.html\n"
      ],
      "metadata": {
        "id": "URW4ObWozAIL"
      }
    },
    {
      "cell_type": "code",
      "source": [
        "TENSOR = torch.randint(20, size=(4,5))\n",
        "TENSOR"
      ],
      "metadata": {
        "colab": {
          "base_uri": "https://localhost:8080/"
        },
        "id": "3KQbzFRIqirQ",
        "outputId": "cd59667e-918a-4c53-90b5-f2e0016f5422"
      },
      "execution_count": null,
      "outputs": [
        {
          "output_type": "execute_result",
          "data": {
            "text/plain": [
              "tensor([[14, 17,  5, 13,  9],\n",
              "        [ 1, 18,  6,  2, 10],\n",
              "        [17,  5,  6,  0,  4],\n",
              "        [12,  0, 10, 18,  4]])"
            ]
          },
          "metadata": {},
          "execution_count": 29
        }
      ]
    },
    {
      "cell_type": "code",
      "source": [
        "#Shape imager with tensor\n",
        "random_img_size_tensor = torch.rand(size=(224,224,3)) # height, width.colour channels(màu RGB)\n",
        "random_img_size_tensor.shape, random_img_size_tensor.ndim\n"
      ],
      "metadata": {
        "colab": {
          "base_uri": "https://localhost:8080/"
        },
        "id": "I4_ipc2VrObl",
        "outputId": "832b3c61-4fe9-4aaf-9a1d-864eb642e9c1"
      },
      "execution_count": null,
      "outputs": [
        {
          "output_type": "execute_result",
          "data": {
            "text/plain": [
              "(torch.Size([224, 224, 3]), 3)"
            ]
          },
          "metadata": {},
          "execution_count": 30
        }
      ]
    },
    {
      "cell_type": "code",
      "source": [
        "one_to_ten = torch.arange(1,11,1)\n",
        "one_to_ten"
      ],
      "metadata": {
        "id": "un6hCWOv0n1q",
        "colab": {
          "base_uri": "https://localhost:8080/"
        },
        "outputId": "abffdc56-1a16-41c1-a2a5-50e5d9eca09c"
      },
      "execution_count": null,
      "outputs": [
        {
          "output_type": "execute_result",
          "data": {
            "text/plain": [
              "tensor([ 1,  2,  3,  4,  5,  6,  7,  8,  9, 10])"
            ]
          },
          "metadata": {},
          "execution_count": 4
        }
      ]
    },
    {
      "cell_type": "code",
      "source": [
        "import torch\n",
        "\n",
        "random_seed = 19\n",
        "torch.manual_seed(random_seed)\n",
        "random_tensor_C = torch.rand(3,4)\n",
        "\n",
        "torch.manual_seed(random_seed)\n",
        "random_tensor_D = torch.rand(3,4)\n",
        "\n",
        "print(random_tensor_C)\n",
        "print(random_tensor_D)\n",
        "print(random_tensor_C == random_tensor_D)"
      ],
      "metadata": {
        "colab": {
          "base_uri": "https://localhost:8080/"
        },
        "id": "FJgCCvM0J8ZC",
        "outputId": "79def633-da9a-4c24-fdfa-c4a2369541ad"
      },
      "execution_count": null,
      "outputs": [
        {
          "output_type": "stream",
          "name": "stdout",
          "text": [
            "tensor([[0.9686, 0.1999, 0.8799, 0.6622],\n",
            "        [0.2161, 0.1192, 0.3617, 0.0167],\n",
            "        [0.8503, 0.9620, 0.2479, 0.2946]])\n",
            "tensor([[0.9686, 0.1999, 0.8799, 0.6622],\n",
            "        [0.2161, 0.1192, 0.3617, 0.0167],\n",
            "        [0.8503, 0.9620, 0.2479, 0.2946]])\n",
            "tensor([[True, True, True, True],\n",
            "        [True, True, True, True],\n",
            "        [True, True, True, True]])\n"
          ]
        }
      ]
    },
    {
      "cell_type": "markdown",
      "source": [
        "# Tensor datatypes\n",
        "**Note**: Kiểu dữ liệu của tensor là 1 trong 3 lỗi lớn của tensor trong PyTorch và Deep learning:\n",
        "\n",
        "1. Tensors không đúng kiểu dữ liệu (dtype)\n",
        "2. Tensors không đúng kích cỡ (shape)\n",
        "3. Tensors không đúng thiết bị (device)"
      ],
      "metadata": {
        "id": "2H6_R2If_tS8"
      }
    },
    {
      "cell_type": "code",
      "source": [
        "#float 32 tensor\n",
        "float_32_tensor = torch.tensor([3.0,6.0,9.0],\n",
        "                               dtype=torch.int32,\n",
        "                               device=None)\n",
        "float_32_tensor"
      ],
      "metadata": {
        "colab": {
          "base_uri": "https://localhost:8080/"
        },
        "id": "BsThmSPU_G7q",
        "outputId": "80ee01aa-3438-4f42-8248-6bc7998ec0d3"
      },
      "execution_count": null,
      "outputs": [
        {
          "output_type": "execute_result",
          "data": {
            "text/plain": [
              "tensor([3, 6, 9], dtype=torch.int32)"
            ]
          },
          "metadata": {},
          "execution_count": 7
        }
      ]
    },
    {
      "cell_type": "markdown",
      "source": [
        "# Các phép toán với tensor\n",
        "\n",
        "* Cộng\n",
        "* Trừ\n",
        "* Nhân (mũ)\n",
        "* Chia\n",
        "* Các phép toán ma trận"
      ],
      "metadata": {
        "id": "mSAgdxjvLNHc"
      }
    },
    {
      "cell_type": "code",
      "source": [
        "tensor = torch.tensor([1,2,3])"
      ],
      "metadata": {
        "id": "oG24gJS-McML"
      },
      "execution_count": null,
      "outputs": []
    },
    {
      "cell_type": "code",
      "source": [
        "#Cộng\n",
        "print(tensor +100)\n",
        "print(torch.add(tensor, 100))"
      ],
      "metadata": {
        "colab": {
          "base_uri": "https://localhost:8080/"
        },
        "id": "uS0BvrdjBzqW",
        "outputId": "2f3f866a-9b3e-4b02-e940-242b12b53a36"
      },
      "execution_count": null,
      "outputs": [
        {
          "output_type": "stream",
          "name": "stdout",
          "text": [
            "tensor([101, 102, 103])\n",
            "tensor([101, 102, 103])\n"
          ]
        }
      ]
    },
    {
      "cell_type": "code",
      "source": [
        "#Trừ\n",
        "tensor - 2"
      ],
      "metadata": {
        "colab": {
          "base_uri": "https://localhost:8080/"
        },
        "id": "rGd1lXedLvHA",
        "outputId": "29c1896d-388b-4d9a-f741-61c917e3c8aa"
      },
      "execution_count": null,
      "outputs": [
        {
          "output_type": "execute_result",
          "data": {
            "text/plain": [
              "tensor([-1,  0,  1])"
            ]
          },
          "metadata": {},
          "execution_count": 11
        }
      ]
    },
    {
      "cell_type": "code",
      "source": [
        "#Nhân\n",
        "print(tensor * 10)\n",
        "print(torch.mul(tensor, 10))"
      ],
      "metadata": {
        "colab": {
          "base_uri": "https://localhost:8080/"
        },
        "id": "6V_bpjLRLo8D",
        "outputId": "637dfa8d-387d-4e8f-d62f-7a103f754ffd"
      },
      "execution_count": null,
      "outputs": [
        {
          "output_type": "stream",
          "name": "stdout",
          "text": [
            "tensor([10, 20, 30])\n",
            "tensor([10, 20, 30])\n"
          ]
        }
      ]
    },
    {
      "cell_type": "code",
      "source": [
        "#Chia\n",
        "tensor / 2\n"
      ],
      "metadata": {
        "colab": {
          "base_uri": "https://localhost:8080/"
        },
        "id": "EjfW_9qJLqtp",
        "outputId": "e875a1ad-800a-48eb-b374-dc23ec9b7c68"
      },
      "execution_count": null,
      "outputs": [
        {
          "output_type": "execute_result",
          "data": {
            "text/plain": [
              "tensor([0.5000, 1.0000, 1.5000])"
            ]
          },
          "metadata": {},
          "execution_count": 19
        }
      ]
    },
    {
      "cell_type": "markdown",
      "source": [
        "### Matrix Multiplication"
      ],
      "metadata": {
        "id": "n57jXdqKN4hH"
      }
    },
    {
      "cell_type": "code",
      "source": [
        "#Element wise multiplication\n",
        "print(tensor, \"*\", tensor)\n",
        "print(f\"Equals: {tensor * tensor}\")"
      ],
      "metadata": {
        "colab": {
          "base_uri": "https://localhost:8080/"
        },
        "id": "WxG7ACanNy7E",
        "outputId": "0e1f8096-ce9d-49b8-852d-31d3deed40a2"
      },
      "execution_count": null,
      "outputs": [
        {
          "output_type": "stream",
          "name": "stdout",
          "text": [
            "tensor([1, 2, 3]) * tensor([1, 2, 3])\n",
            "Equals: tensor([1, 4, 9])\n"
          ]
        }
      ]
    },
    {
      "cell_type": "code",
      "source": [
        "#Matrix multiplication\n",
        "torch.matmul(tensor, tensor)"
      ],
      "metadata": {
        "colab": {
          "base_uri": "https://localhost:8080/"
        },
        "id": "7pIQtZTMOc4f",
        "outputId": "5e6ad526-5587-4fc6-be80-585e83b8f172"
      },
      "execution_count": null,
      "outputs": [
        {
          "output_type": "execute_result",
          "data": {
            "text/plain": [
              "tensor(14)"
            ]
          },
          "metadata": {},
          "execution_count": 22
        }
      ]
    },
    {
      "cell_type": "code",
      "source": [
        "%%time\n",
        "value = 0\n",
        "for i in range(len(tensor)):\n",
        "  value += tensor[i] * tensor[i]\n",
        "print(value)"
      ],
      "metadata": {
        "colab": {
          "base_uri": "https://localhost:8080/"
        },
        "id": "Ni2STmqPOifo",
        "outputId": "588891d2-49a7-4431-8531-946f7f4fc377"
      },
      "execution_count": null,
      "outputs": [
        {
          "output_type": "stream",
          "name": "stdout",
          "text": [
            "tensor(14)\n",
            "CPU times: user 1.11 ms, sys: 1.89 ms, total: 3 ms\n",
            "Wall time: 9.85 ms\n"
          ]
        }
      ]
    },
    {
      "cell_type": "code",
      "source": [
        "%%time\n",
        "torch.matmul(tensor, tensor)"
      ],
      "metadata": {
        "colab": {
          "base_uri": "https://localhost:8080/"
        },
        "id": "aVgxp-NEQRkO",
        "outputId": "7b8bfa32-4b68-4f85-dfd5-62d8d85a69e3"
      },
      "execution_count": null,
      "outputs": [
        {
          "output_type": "stream",
          "name": "stdout",
          "text": [
            "CPU times: user 1.38 ms, sys: 13 µs, total: 1.39 ms\n",
            "Wall time: 1.45 ms\n"
          ]
        },
        {
          "output_type": "execute_result",
          "data": {
            "text/plain": [
              "tensor(14)"
            ]
          },
          "metadata": {},
          "execution_count": 24
        }
      ]
    },
    {
      "cell_type": "code",
      "source": [
        "tensorA = torch.tensor([[1,2],\n",
        "                       [3,4],\n",
        "                       [5,6]])\n",
        "tensorB = torch.tensor([[1,2,3],\n",
        "                        [4,5,6]])\n",
        "\n",
        "print(torch.matmul(tensorA, tensorB))\n",
        "print(torch.mm(tensorA, tensorB))"
      ],
      "metadata": {
        "colab": {
          "base_uri": "https://localhost:8080/"
        },
        "id": "MnHp3ul1QWGv",
        "outputId": "23b28b35-e27d-4fd9-bbe5-94d6b5efde99"
      },
      "execution_count": null,
      "outputs": [
        {
          "output_type": "stream",
          "name": "stdout",
          "text": [
            "tensor([[ 9, 12, 15],\n",
            "        [19, 26, 33],\n",
            "        [29, 40, 51]])\n",
            "tensor([[ 9, 12, 15],\n",
            "        [19, 26, 33],\n",
            "        [29, 40, 51]])\n"
          ]
        }
      ]
    },
    {
      "cell_type": "code",
      "source": [
        "tensorA.T, tensorA.T.shape"
      ],
      "metadata": {
        "colab": {
          "base_uri": "https://localhost:8080/"
        },
        "id": "fOf8RlcGUmNZ",
        "outputId": "e969cc09-eb94-4767-e711-3260d03b941d"
      },
      "execution_count": null,
      "outputs": [
        {
          "output_type": "execute_result",
          "data": {
            "text/plain": [
              "(tensor([[1, 3, 5],\n",
              "         [2, 4, 6]]),\n",
              " torch.Size([2, 3]))"
            ]
          },
          "metadata": {},
          "execution_count": 31
        }
      ]
    },
    {
      "cell_type": "code",
      "source": [
        "tensorA.shape"
      ],
      "metadata": {
        "colab": {
          "base_uri": "https://localhost:8080/"
        },
        "id": "SQRPWNndW_gc",
        "outputId": "131d5782-63e9-4dbd-ad4a-115dd6609de7"
      },
      "execution_count": null,
      "outputs": [
        {
          "output_type": "execute_result",
          "data": {
            "text/plain": [
              "torch.Size([3, 2])"
            ]
          },
          "metadata": {},
          "execution_count": 32
        }
      ]
    },
    {
      "cell_type": "markdown",
      "source": [
        "### Tìm max, min, mean and sum"
      ],
      "metadata": {
        "id": "AxmbYdMzbAfD"
      }
    },
    {
      "cell_type": "code",
      "source": [
        "x = torch.arange(0,100,10)\n",
        "x, x.dtype"
      ],
      "metadata": {
        "colab": {
          "base_uri": "https://localhost:8080/"
        },
        "id": "voDSE2dYXHE9",
        "outputId": "b0e43b54-feed-465a-d5d5-4b49e7551bc7"
      },
      "execution_count": null,
      "outputs": [
        {
          "output_type": "execute_result",
          "data": {
            "text/plain": [
              "(tensor([ 0, 10, 20, 30, 40, 50, 60, 70, 80, 90]), torch.int64)"
            ]
          },
          "metadata": {},
          "execution_count": 33
        }
      ]
    },
    {
      "cell_type": "code",
      "source": [
        "torch.min(x), x.min(), x.argmin()"
      ],
      "metadata": {
        "colab": {
          "base_uri": "https://localhost:8080/"
        },
        "id": "WkfBD7bWbL5R",
        "outputId": "551c3635-1de9-42af-85bf-3bcb61aac42f"
      },
      "execution_count": null,
      "outputs": [
        {
          "output_type": "execute_result",
          "data": {
            "text/plain": [
              "(tensor(0), tensor(0), tensor(0))"
            ]
          },
          "metadata": {},
          "execution_count": 40
        }
      ]
    },
    {
      "cell_type": "code",
      "source": [
        "torch.max(x), x.max(), x.argmax()"
      ],
      "metadata": {
        "colab": {
          "base_uri": "https://localhost:8080/"
        },
        "id": "g6S19jrAbPmP",
        "outputId": "408319b4-5e41-4d95-993f-8740867ab1e5"
      },
      "execution_count": null,
      "outputs": [
        {
          "output_type": "execute_result",
          "data": {
            "text/plain": [
              "(tensor(90), tensor(90), tensor(9))"
            ]
          },
          "metadata": {},
          "execution_count": 41
        }
      ]
    },
    {
      "cell_type": "code",
      "source": [
        "#Note: trung bình cộng yêu cầu tensor có kiểu dtype là float32 để sử dụng\n",
        "torch.mean(x.type(torch.float32)), x.type(torch.float32).mean()"
      ],
      "metadata": {
        "colab": {
          "base_uri": "https://localhost:8080/"
        },
        "id": "yX7r2FHEbSSL",
        "outputId": "762069be-f7fa-401a-bd02-2b79ab5e669b"
      },
      "execution_count": null,
      "outputs": [
        {
          "output_type": "execute_result",
          "data": {
            "text/plain": [
              "(tensor(45.), tensor(45.))"
            ]
          },
          "metadata": {},
          "execution_count": 36
        }
      ]
    },
    {
      "cell_type": "code",
      "source": [
        "torch.sum(x), x.sum()"
      ],
      "metadata": {
        "colab": {
          "base_uri": "https://localhost:8080/"
        },
        "id": "OGWwDwAqbUaE",
        "outputId": "6038dc89-54e1-4a9d-a052-476dc8c0f61f"
      },
      "execution_count": null,
      "outputs": [
        {
          "output_type": "execute_result",
          "data": {
            "text/plain": [
              "(tensor(450), tensor(450))"
            ]
          },
          "metadata": {},
          "execution_count": 37
        }
      ]
    },
    {
      "cell_type": "markdown",
      "source": [
        "# Indexing (chọn data với tensor)"
      ],
      "metadata": {
        "id": "b4FXJdqyCFpU"
      }
    },
    {
      "cell_type": "code",
      "source": [
        "import torch\n",
        "x = torch.arange(1,10).reshape(1,3,3)\n",
        "x, x.shape"
      ],
      "metadata": {
        "colab": {
          "base_uri": "https://localhost:8080/"
        },
        "id": "bBrkQM4Fbhc-",
        "outputId": "31f64ac5-5c33-4463-a0f2-bcac1e84bbbe"
      },
      "execution_count": null,
      "outputs": [
        {
          "output_type": "execute_result",
          "data": {
            "text/plain": [
              "(tensor([[[1, 2, 3],\n",
              "          [4, 5, 6],\n",
              "          [7, 8, 9]]]),\n",
              " torch.Size([1, 3, 3]))"
            ]
          },
          "metadata": {},
          "execution_count": 7
        }
      ]
    },
    {
      "cell_type": "code",
      "source": [
        "#taret to tensor\n",
        "x[0]"
      ],
      "metadata": {
        "colab": {
          "base_uri": "https://localhost:8080/"
        },
        "id": "U2zzFG-oCR98",
        "outputId": "1e4745d9-f3cb-4c22-8db1-33daa51d5972"
      },
      "execution_count": null,
      "outputs": [
        {
          "output_type": "execute_result",
          "data": {
            "text/plain": [
              "tensor([[1, 2, 3],\n",
              "        [4, 5, 6],\n",
              "        [7, 8, 9]])"
            ]
          },
          "metadata": {},
          "execution_count": 3
        }
      ]
    },
    {
      "cell_type": "code",
      "source": [
        "#middle bracket(dim =1)\n",
        "x[0][0]"
      ],
      "metadata": {
        "colab": {
          "base_uri": "https://localhost:8080/"
        },
        "id": "drr3ohPvDCub",
        "outputId": "666da3b0-b174-43e4-c634-5e113b3bb3d0"
      },
      "execution_count": null,
      "outputs": [
        {
          "output_type": "execute_result",
          "data": {
            "text/plain": [
              "tensor([1, 2, 3])"
            ]
          },
          "metadata": {},
          "execution_count": 4
        }
      ]
    },
    {
      "cell_type": "code",
      "source": [
        "#last dimension\n",
        "x[0][0][0]"
      ],
      "metadata": {
        "colab": {
          "base_uri": "https://localhost:8080/"
        },
        "id": "xEaqwvfTDsTg",
        "outputId": "51ec0890-ae5d-4148-e66d-28aa7415dd00"
      },
      "execution_count": null,
      "outputs": [
        {
          "output_type": "execute_result",
          "data": {
            "text/plain": [
              "tensor(1)"
            ]
          },
          "metadata": {},
          "execution_count": 5
        }
      ]
    },
    {
      "cell_type": "markdown",
      "source": [
        "# Nói chung là giống NumPy nhưng nạp GPU tăng thời gian chạy"
      ],
      "metadata": {
        "id": "UQUR4rD2D_xQ"
      }
    },
    {
      "cell_type": "code",
      "source": [
        "import torch\n",
        "import numpy as np\n",
        "tensor = torch.arange(1,10).reshape(1,3,3)\n",
        "\n",
        "#Từ PyTorch tensor sang NumPy array:\n",
        "numpy_array = tensor.numpy()\n",
        "#Từ NumPy array sang PyTorch tensor:\n",
        "tensor = torch.from_numpy(numpy_array)\n",
        "\n",
        "print(tensor)\n",
        "print()\n",
        "print(numpy_array)"
      ],
      "metadata": {
        "colab": {
          "base_uri": "https://localhost:8080/"
        },
        "id": "Ost1_l7bG-ow",
        "outputId": "5c54f530-6faf-418f-8c52-75d6af8e7b36"
      },
      "execution_count": null,
      "outputs": [
        {
          "output_type": "stream",
          "name": "stdout",
          "text": [
            "tensor([[[1, 2, 3],\n",
            "         [4, 5, 6],\n",
            "         [7, 8, 9]]])\n",
            "\n",
            "[[[1 2 3]\n",
            "  [4 5 6]\n",
            "  [7 8 9]]]\n"
          ]
        }
      ]
    }
  ]
}